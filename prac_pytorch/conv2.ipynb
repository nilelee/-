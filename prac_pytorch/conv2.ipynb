{
 "cells": [
  {
   "cell_type": "code",
   "execution_count": 3,
   "id": "initial_id",
   "metadata": {
    "collapsed": true,
    "ExecuteTime": {
     "end_time": "2024-05-12T06:05:52.386299Z",
     "start_time": "2024-05-12T06:05:52.366299Z"
    }
   },
   "outputs": [
    {
     "data": {
      "text/plain": "tensor([[[[32, 36, 41],\n          [32, 41, 43],\n          [47, 54, 59]]]])"
     },
     "execution_count": 3,
     "metadata": {},
     "output_type": "execute_result"
    }
   ],
   "source": [
    "import torch\n",
    "input = torch.tensor([[1,2,0,3,1],\n",
    "                      [4,5,6,7,8],\n",
    "                      [10,11,12,14,15],\n",
    "                      [1,2,0,3,1],\n",
    "                      [1,2,0,3,1]])\n",
    "kernel = torch.tensor([[1,2,1],\n",
    "                       [0,1,0],\n",
    "                       [1,0,1]])\n",
    "# 因conv2需要batch, channal H W\n",
    "input = torch.reshape(input,(1,1,5,5))\n",
    "kernel = torch.reshape(kernel,(1,1,3,3))\n",
    "torch.conv2d(input, kernel, stride=1, padding=0)"
   ]
  }
 ],
 "metadata": {
  "kernelspec": {
   "display_name": "Python 3",
   "language": "python",
   "name": "python3"
  },
  "language_info": {
   "codemirror_mode": {
    "name": "ipython",
    "version": 2
   },
   "file_extension": ".py",
   "mimetype": "text/x-python",
   "name": "python",
   "nbconvert_exporter": "python",
   "pygments_lexer": "ipython2",
   "version": "2.7.6"
  }
 },
 "nbformat": 4,
 "nbformat_minor": 5
}
