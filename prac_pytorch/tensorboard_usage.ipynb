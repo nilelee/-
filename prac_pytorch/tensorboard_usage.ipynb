{
 "cells": [
  {
   "cell_type": "code",
   "execution_count": 4,
   "id": "initial_id",
   "metadata": {
    "collapsed": true,
    "ExecuteTime": {
     "end_time": "2024-05-08T06:44:45.655621Z",
     "start_time": "2024-05-08T06:44:45.631621Z"
    }
   },
   "outputs": [],
   "source": []
  },
  {
   "cell_type": "code",
   "outputs": [
    {
     "name": "stdout",
     "output_type": "stream",
     "text": [
      "<class 'PIL.JpegImagePlugin.JpegImageFile'> <PIL.JpegImagePlugin.JpegImageFile image mode=RGB size=768x512 at 0x1E24B129DC0>\n"
     ]
    }
   ],
   "source": [
    "from PIL import Image\n",
    "img_path = 'F:\\\\DeepLearn\\\\prac_pytorch\\\\dataset\\\\train\\\\ants\\\\0013035.jpg'\n",
    "images = Image.open(img_path)\n",
    "print(type(images), images)"
   ],
   "metadata": {
    "collapsed": false,
    "ExecuteTime": {
     "end_time": "2024-05-08T07:04:08.240632Z",
     "start_time": "2024-05-08T07:04:08.221632Z"
    }
   },
   "id": "4514b33c22f9f78d",
   "execution_count": 22
  },
  {
   "cell_type": "code",
   "outputs": [
    {
     "data": {
      "text/plain": "numpy.ndarray"
     },
     "execution_count": 12,
     "metadata": {},
     "output_type": "execute_result"
    }
   ],
   "source": [
    "import numpy as np\n",
    "img_numpy = np.array(images)\n",
    "type(img_numpy)"
   ],
   "metadata": {
    "collapsed": false,
    "ExecuteTime": {
     "end_time": "2024-05-08T06:53:56.327986Z",
     "start_time": "2024-05-08T06:53:56.313174Z"
    }
   },
   "id": "3a0d5311c9a9f1f8",
   "execution_count": 12
  },
  {
   "cell_type": "code",
   "outputs": [],
   "source": [
    "from torch.utils.tensorboard import SummaryWriter\n",
    "writer = SummaryWriter('logs')\n",
    "\n",
    "for i in range(100):\n",
    "    \n",
    "    writer.add_scalar(\"y=x\",2 * i,i)\n",
    "\n",
    "\n",
    "writer.close()\n",
    "writer.add_image('test',img_numpy,2,dataformats='HWC')#Add image data to summary\n"
   ],
   "metadata": {
    "collapsed": false,
    "ExecuteTime": {
     "end_time": "2024-05-08T07:05:12.987514Z",
     "start_time": "2024-05-08T07:05:12.852554Z"
    }
   },
   "id": "569aa4f703c81da8",
   "execution_count": 24
  }
 ],
 "metadata": {
  "kernelspec": {
   "display_name": "Python 3",
   "language": "python",
   "name": "python3"
  },
  "language_info": {
   "codemirror_mode": {
    "name": "ipython",
    "version": 2
   },
   "file_extension": ".py",
   "mimetype": "text/x-python",
   "name": "python",
   "nbconvert_exporter": "python",
   "pygments_lexer": "ipython2",
   "version": "2.7.6"
  }
 },
 "nbformat": 4,
 "nbformat_minor": 5
}
