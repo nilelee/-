{
 "cells": [
  {
   "cell_type": "code",
   "execution_count": 8,
   "id": "initial_id",
   "metadata": {
    "collapsed": true,
    "ExecuteTime": {
     "end_time": "2024-05-09T04:41:03.654285Z",
     "start_time": "2024-05-09T04:41:03.646312Z"
    }
   },
   "outputs": [],
   "source": [
    "from PIL import Image\n",
    "from torchvision import transforms\n",
    "img_path = 'dataset/train/ants/0013035.jpg'\n",
    "img = Image.open(img_path)"
   ]
  },
  {
   "cell_type": "code",
   "outputs": [],
   "source": [
    "from PIL import Image\n",
    "from torchvision import transforms\n",
    "img_path = 'dataset/train/ants/0013035.jpg'\n",
    "img = Image.open(img_path)\n",
    "tensor_trans = transforms.ToTensor()\n",
    "from torch.utils.tensorboard import SummaryWriter\n",
    "writer = SummaryWriter('log')\n",
    "\n",
    "tensor_img = tensor_trans(img)\n",
    "writer.add_image('img', tensor_img)\n",
    "writer.close()"
   ],
   "metadata": {
    "collapsed": false,
    "ExecuteTime": {
     "end_time": "2024-05-09T04:51:21.580039Z",
     "start_time": "2024-05-09T04:51:21.452555Z"
    }
   },
   "id": "44d529dcacaa2918",
   "execution_count": 15
  },
  {
   "cell_type": "code",
   "outputs": [],
   "source": [
    "import cv2\n",
    "img = cv2.imread('dataset/train/ants/0013035.jpg')"
   ],
   "metadata": {
    "collapsed": false,
    "ExecuteTime": {
     "end_time": "2024-05-09T04:53:14.549309Z",
     "start_time": "2024-05-09T04:53:14.408896Z"
    }
   },
   "id": "90e4ddafdbcb30d6",
   "execution_count": 16
  },
  {
   "cell_type": "code",
   "outputs": [
    {
     "data": {
      "text/plain": "numpy.ndarray"
     },
     "execution_count": 18,
     "metadata": {},
     "output_type": "execute_result"
    }
   ],
   "source": [
    "type(img)"
   ],
   "metadata": {
    "collapsed": false,
    "ExecuteTime": {
     "end_time": "2024-05-09T04:54:40.342115Z",
     "start_time": "2024-05-09T04:54:40.333146Z"
    }
   },
   "id": "f0f04f4b8bc8b135",
   "execution_count": 18
  },
  {
   "cell_type": "code",
   "outputs": [
    {
     "data": {
      "text/plain": "(512, 768, 3)"
     },
     "execution_count": 20,
     "metadata": {},
     "output_type": "execute_result"
    }
   ],
   "source": [
    "img.shape"
   ],
   "metadata": {
    "collapsed": false,
    "ExecuteTime": {
     "end_time": "2024-05-09T04:57:54.691991Z",
     "start_time": "2024-05-09T04:57:54.673276Z"
    }
   },
   "id": "6ba8b4f97339592d",
   "execution_count": 20
  }
 ],
 "metadata": {
  "kernelspec": {
   "display_name": "Python 3",
   "language": "python",
   "name": "python3"
  },
  "language_info": {
   "codemirror_mode": {
    "name": "ipython",
    "version": 2
   },
   "file_extension": ".py",
   "mimetype": "text/x-python",
   "name": "python",
   "nbconvert_exporter": "python",
   "pygments_lexer": "ipython2",
   "version": "2.7.6"
  }
 },
 "nbformat": 4,
 "nbformat_minor": 5
}
