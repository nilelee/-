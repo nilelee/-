{
 "cells": [
  {
   "cell_type": "markdown",
   "source": [
    "# 常见的transform"
   ],
   "metadata": {
    "collapsed": false
   },
   "id": "906e399969402ad4"
  },
  {
   "cell_type": "code",
   "outputs": [],
   "source": [
    "from torchvision import transforms\n",
    "from PIL import Image\n",
    "from torch.utils import tensorboard\n",
    "img = Image.open('1.jpg')\n"
   ],
   "metadata": {
    "collapsed": false,
    "ExecuteTime": {
     "end_time": "2024-05-10T06:04:08.435225Z",
     "start_time": "2024-05-10T06:04:06.581030Z"
    }
   },
   "id": "6f42b175bbfc8c6d",
   "execution_count": 2
  },
  {
   "cell_type": "code",
   "outputs": [],
   "source": [
    "from torch.utils import tensorboard\n",
    "tensorboard = tensorboard.SummaryWriter('log')\n",
    "trans_tensor = transforms.ToTensor()\n",
    "img_tensor = trans_tensor(img)\n",
    "\n",
    "tensorboard.add_image('img',img_tensor,1)\n",
    "tensorboard.close()\n"
   ],
   "metadata": {
    "collapsed": false,
    "ExecuteTime": {
     "end_time": "2024-05-10T06:09:21.894194Z",
     "start_time": "2024-05-10T06:09:21.821189Z"
    }
   },
   "id": "1683b2013d79890e",
   "execution_count": 3
  },
  {
   "cell_type": "markdown",
   "source": [
    "# 运行 tensorboard命令： tensorboard --logdir=log\n"
   ],
   "metadata": {
    "collapsed": false
   },
   "id": "88dd2c03d0410e7c"
  },
  {
   "cell_type": "markdown",
   "source": [
    "# 2归一化： normalize"
   ],
   "metadata": {
    "collapsed": false
   },
   "id": "7eb6081cdd836e78"
  },
  {
   "cell_type": "code",
   "outputs": [],
   "source": [
    "from torch.utils import tensorboard\n",
    "tensorboard = tensorboard.SummaryWriter('log')\n",
    "# normalize \n",
    "# 图片是三通道\n",
    "tran_normalize = transforms.Normalize(mean=[0.485, 0.456, 0.5],std=[0.229, 0.224, 0.225])\n",
    "img_norm = tran_normalize(img_tensor)\n",
    "tensorboard.add_image('img_mean',img_norm,2)\n",
    "tensorboard.close()"
   ],
   "metadata": {
    "collapsed": false,
    "ExecuteTime": {
     "end_time": "2024-05-09T06:04:19.156902Z",
     "start_time": "2024-05-09T06:04:19.072511Z"
    }
   },
   "id": "4a7bdc723f90279d",
   "execution_count": 15
  },
  {
   "cell_type": "markdown",
   "source": [
    "# tip:归一化，标准化\n",
    " ``output[channel] = (input[channel] - mean[channel]) / std[channel]``\n"
   ],
   "metadata": {
    "collapsed": false
   },
   "id": "86b6be5de5b43d22"
  },
  {
   "cell_type": "markdown",
   "source": [
    "# 3 Resize"
   ],
   "metadata": {
    "collapsed": false
   },
   "id": "cd6895d2c80afe56"
  },
  {
   "cell_type": "markdown",
   "source": [],
   "metadata": {
    "collapsed": false
   },
   "id": "be86c58890577e46"
  },
  {
   "cell_type": "code",
   "outputs": [
    {
     "name": "stdout",
     "output_type": "stream",
     "text": [
      "(500, 375)\n"
     ]
    }
   ],
   "source": [
    "print(img.size)"
   ],
   "metadata": {
    "collapsed": false,
    "ExecuteTime": {
     "end_time": "2024-05-09T06:05:41.613987Z",
     "start_time": "2024-05-09T06:05:41.600034Z"
    }
   },
   "id": "8395332a1a29adab",
   "execution_count": 18
  },
  {
   "cell_type": "code",
   "outputs": [
    {
     "name": "stdout",
     "output_type": "stream",
     "text": [
      "(224, 224)\n",
      "<class 'PIL.Image.Image'>\n"
     ]
    },
    {
     "data": {
      "text/plain": "(None, None)"
     },
     "execution_count": 23,
     "metadata": {},
     "output_type": "execute_result"
    }
   ],
   "source": [
    "trans_resized = transforms.Resize((224,224))\n",
    "img_resized = trans_resized(img)\n",
    "print(img_resized.size),print(type(img_resized))"
   ],
   "metadata": {
    "collapsed": false,
    "ExecuteTime": {
     "end_time": "2024-05-09T06:09:55.215626Z",
     "start_time": "2024-05-09T06:09:55.193700Z"
    }
   },
   "id": "ccc14ce88cae043",
   "execution_count": 23
  },
  {
   "cell_type": "code",
   "outputs": [],
   "source": [
    "\n",
    "img_resized_tensor = trans_tensor(img_resized)\n",
    "tensorboard.add_image('img_resized_tensor',img_resized_tensor,3)\n",
    "tensorboard.close()"
   ],
   "metadata": {
    "collapsed": false,
    "ExecuteTime": {
     "end_time": "2024-05-09T06:15:06.896352Z",
     "start_time": "2024-05-09T06:15:06.852751Z"
    }
   },
   "id": "32db06c74524d664",
   "execution_count": 26
  },
  {
   "cell_type": "markdown",
   "source": [
    "# Compose使用"
   ],
   "metadata": {
    "collapsed": false
   },
   "id": "6c59c122169d8597"
  },
  {
   "cell_type": "code",
   "outputs": [],
   "source": [
    "transform = transforms.Compose([trans_resized,trans_tensor])\n",
    "img_compose = transform(img)\n",
    "\n",
    "tensorboard.add_image('img_compose',img_compose,4)\n",
    "tensorboard.close()"
   ],
   "metadata": {
    "collapsed": false,
    "ExecuteTime": {
     "end_time": "2024-05-09T06:18:20.400520Z",
     "start_time": "2024-05-09T06:18:20.353677Z"
    }
   },
   "id": "457bb4f6eea5df87",
   "execution_count": 28
  },
  {
   "cell_type": "code",
   "outputs": [
    {
     "name": "stdout",
     "output_type": "stream",
     "text": [
      "<class 'torch.Tensor'>\n"
     ]
    }
   ],
   "source": [
    "transform_normal = transforms.Compose([trans_resized,trans_tensor,tran_normalize])\n",
    "img_all = transform_normal(img)\n",
    "print(type(img_all))\n",
    "tensorboard.add_image('img_all',img_all,5)\n",
    "tensorboard.close()"
   ],
   "metadata": {
    "collapsed": false,
    "ExecuteTime": {
     "end_time": "2024-05-09T06:22:17.106125Z",
     "start_time": "2024-05-09T06:22:17.058285Z"
    }
   },
   "id": "eab99771985fed5",
   "execution_count": 33
  },
  {
   "cell_type": "code",
   "outputs": [],
   "source": [
    "trans_rcop = transforms.RandomCrop(224)\n",
    "tans_compose2 = transforms.Compose([trans_rcop,transforms.ToTensor()])\n",
    "for i in range(10):\n",
    "    img_crop = tans_compose2(img)\n",
    "    tensorboard.add_image('randcrop',img_crop,i+5)\n",
    "tensorboard.close()"
   ],
   "metadata": {
    "collapsed": false,
    "ExecuteTime": {
     "end_time": "2024-05-10T06:12:45.944789Z",
     "start_time": "2024-05-10T06:12:45.779784Z"
    }
   },
   "id": "e8f99a43d0cc8b92",
   "execution_count": 6
  }
 ],
 "metadata": {
  "kernelspec": {
   "display_name": "Python 3",
   "language": "python",
   "name": "python3"
  },
  "language_info": {
   "codemirror_mode": {
    "name": "ipython",
    "version": 2
   },
   "file_extension": ".py",
   "mimetype": "text/x-python",
   "name": "python",
   "nbconvert_exporter": "python",
   "pygments_lexer": "ipython2",
   "version": "2.7.6"
  }
 },
 "nbformat": 4,
 "nbformat_minor": 5
}
